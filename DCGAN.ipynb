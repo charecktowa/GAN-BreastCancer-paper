{
 "cells": [
  {
   "attachments": {},
   "cell_type": "markdown",
   "metadata": {},
   "source": [
    "# DCGAN\n",
    "Para este notebook se van a crear dos DCGAN, una entrenada con imágenes benignas\n",
    "y otra DCGAN con imágenes malignas."
   ]
  },
  {
   "cell_type": "code",
   "execution_count": null,
   "metadata": {},
   "outputs": [],
   "source": [
    "%pip install -r requirements.txt --quiet\n",
    "%pip install -r dev-requirements.txt --quiet"
   ]
  },
  {
   "cell_type": "code",
   "execution_count": 1,
   "metadata": {},
   "outputs": [],
   "source": [
    "import file_utils"
   ]
  },
  {
   "cell_type": "code",
   "execution_count": 2,
   "metadata": {},
   "outputs": [],
   "source": [
    "path = \"./BreaKHis_v1/histology_slides/\"\n",
    "images_path = file_utils.get_image_path(path)"
   ]
  },
  {
   "cell_type": "code",
   "execution_count": 5,
   "metadata": {},
   "outputs": [],
   "source": [
    "from torchvision import datasets, transforms\n",
    "from breakhis import BreastHistology\n",
    "\n",
    "image_size = 64\n",
    "ngpu = 1\n",
    "\n",
    "data_transform = transforms.Compose([\n",
    "    # Ya que hay algunas imagenes que tienen menor resolución\n",
    "    transforms.Resize(image_size),\n",
    "    transforms.CenterCrop(image_size),\n",
    "    transforms.ToTensor(),\n",
    "    transforms.Normalize((0.5, 0.5, 0.5), (0.5, 0.5, 0.5)),\n",
    "])"
   ]
  },
  {
   "attachments": {},
   "cell_type": "markdown",
   "metadata": {},
   "source": [
    "# \n",
    "Solo correr la siguiente celda en caso de querer generar las imágenes en \n",
    "un direcotrio nuevo, esto para posteriormente generar las estádisticas necesarias\n",
    "para calcular el FID."
   ]
  },
  {
   "cell_type": "code",
   "execution_count": null,
   "metadata": {},
   "outputs": [],
   "source": [
    "import torchvision.utils as vutils\n",
    "import os\n",
    "\n",
    "save_image_transform = transforms.Compose([\n",
    "    # Ya que hay algunas imagenes que tienen menor resolución\n",
    "    transforms.Resize(image_size),\n",
    "    transforms.ToTensor(),\n",
    "])\n",
    "\n",
    "breast_histology_slides = BreastHistology(root_dir=path,\n",
    "                                          transform=save_image_transform)\n",
    "\n",
    "os.makedirs(\"original_images\", exist_ok=True)\n",
    "\n",
    "for index, image in enumerate(iter(breast_histology_slides)):\n",
    "    filename = f\"image_{index}.png\"\n",
    "    vutils.save_image(image[0], os.path.join(\"original_images\", filename))"
   ]
  },
  {
   "attachments": {},
   "cell_type": "markdown",
   "metadata": {},
   "source": [
    "# Calcular FID score e IS\n",
    "A continuación se calculan ambas métricas. Se supone que ambas métricas ayudan a calificar\n",
    "el desempeño que tiene una GAN. [paper](https://arxiv.org/abs/1911.07023)\n",
    "\n",
    "## FID Score\n",
    "\n",
    "\n",
    "## Inception Score"
   ]
  },
  {
   "cell_type": "code",
   "execution_count": null,
   "metadata": {},
   "outputs": [],
   "source": []
  }
 ],
 "metadata": {
  "kernelspec": {
   "display_name": "env",
   "language": "python",
   "name": "python3"
  },
  "language_info": {
   "codemirror_mode": {
    "name": "ipython",
    "version": 3
   },
   "file_extension": ".py",
   "mimetype": "text/x-python",
   "name": "python",
   "nbconvert_exporter": "python",
   "pygments_lexer": "ipython3",
   "version": "3.11.2"
  },
  "orig_nbformat": 4,
  "vscode": {
   "interpreter": {
    "hash": "83d111ee8357d54b5f5301d92a6e5efbd567c69cdbf04f52b7fb1e130a26a77d"
   }
  }
 },
 "nbformat": 4,
 "nbformat_minor": 2
}
